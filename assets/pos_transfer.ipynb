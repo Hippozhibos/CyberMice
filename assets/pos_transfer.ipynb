{
 "cells": [
  {
   "cell_type": "code",
   "execution_count": 26,
   "metadata": {},
   "outputs": [],
   "source": [
    "import xml.etree.ElementTree as ET\n",
    "import numpy as np\n",
    "from scipy.spatial.transform import Rotation\n",
    "\n",
    "def process_sites(root, site_dict=None, current_body=None):\n",
    "    if site_dict is None:\n",
    "        site_dict = {}  # Dictionary to store site information\n",
    "    if current_body is None:\n",
    "        current_body = None  \n",
    "\n",
    "    for elem in root.iter():\n",
    "        if elem.tag == 'body':\n",
    "            current_body = elem.get('name')\n",
    "\n",
    "        elif elem.tag == 'site':\n",
    "            site_name = elem.get('name')\n",
    "            site_pos = elem.get('pos', '0 0 0')\n",
    "\n",
    "            if current_body is not None:\n",
    "                if current_body not in site_dict:\n",
    "                    site_dict[current_body] = []\n",
    "                site_dict[current_body].append(np.fromstring(site_pos, sep=' '))\n",
    "\n",
    "def process_geoms(root, geom_dict=None, current_body=None):\n",
    "    if geom_dict is None:\n",
    "        geom_dict = {}  # Dictionary to store geom information\n",
    "    if current_body is None:\n",
    "        current_body = None\n",
    "\n",
    "    for elem in root.iter():\n",
    "        if elem.tag == 'body':\n",
    "            current_body = elem.get('name')\n",
    "\n",
    "        elif elem.tag == 'geom':\n",
    "            geom_name = elem.get('name')\n",
    "            mesh_attr = elem.get('mesh')\n",
    "            if not mesh_attr:\n",
    "                pos_attr = elem.get('pos', '0 0 0')\n",
    "                # euler_attr = elem.get('euler', '0 0 0')\n",
    "\n",
    "                if current_body is not None:\n",
    "                    if current_body not in geom_dict:\n",
    "                        geom_dict[current_body] = []\n",
    "                    # geom_dict[current_body].append(np.concatenate([np.fromstring(pos_attr, sep=' '), np.fromstring(euler_attr, sep=' ')]))\n",
    "                    geom_dict[current_body].append(np.concatenate([np.fromstring(pos_attr, sep=' ')]))\n",
    "\n",
    "\n",
    "def transform_site(original_pos, original_euler_degrees, site_pos):\n",
    "    # Convert Euler angles to radians\n",
    "    original_euler_radians = np.radians(original_euler_degrees)\n",
    "\n",
    "    # Translation matrix\n",
    "    translation_matrix = np.eye(4)\n",
    "    translation_matrix[:3, 3] = original_pos\n",
    "\n",
    "    # Rotation matrix\n",
    "    rotation_matrix = np.eye(4)\n",
    "    rotation_matrix[:3, :3] = Rotation.from_euler('zyx', original_euler_radians).as_matrix()\n",
    "\n",
    "    # Combined transformation matrix\n",
    "    combined_transform = np.dot(translation_matrix, rotation_matrix)\n",
    "\n",
    "    # Transform the site position\n",
    "    new_site_pos = np.dot(combined_transform, site_pos)\n",
    "    translated_site_pos = new_site_pos[:3]\n",
    "\n",
    "    return translated_site_pos\n"
   ]
  },
  {
   "cell_type": "code",
   "execution_count": 43,
   "metadata": {},
   "outputs": [
    {
     "name": "stdout",
     "output_type": "stream",
     "text": [
      "[[-0.00403751  0.0018592   0.00573398]]\n"
     ]
    }
   ],
   "source": [
    "# Process A.xml for <site>\n",
    "tree_a = ET.parse(r'D:\\Mujoco\\CyberMice\\bones\\forelimbs_240131.xml')\n",
    "root_a = tree_a.getroot()\n",
    "\n",
    "site_info_dict = {}\n",
    "geom_info_dict = {}\n",
    "process_sites(root_a, site_dict=site_info_dict)\n",
    "process_geoms(root_a, geom_dict=geom_info_dict)\n",
    "\n",
    "pelvis_site_positions = site_info_dict.get('RClavicle', [])\n",
    "original_site_position = np.array(pelvis_site_positions)\n",
    "\n",
    "carpi_geom_positions = geom_info_dict.get('RCarpi', [])\n",
    "original_carpi_geom_position = np.array(carpi_geom_positions)\n",
    "\n",
    "print(original_site_position)\n",
    "# print(original_carpi_geom_position)"
   ]
  },
  {
   "cell_type": "code",
   "execution_count": 44,
   "metadata": {},
   "outputs": [],
   "source": [
    "# Original transformation parameters\n",
    "original_pos = np.array([0.0065,-0.006,-0.001])\n",
    "original_euler_degrees = np.array([25, 0, -20])"
   ]
  },
  {
   "cell_type": "code",
   "execution_count": 45,
   "metadata": {},
   "outputs": [
    {
     "name": "stdout",
     "output_type": "stream",
     "text": [
      "[[0.0153762  0.00204188 0.00479925]\n",
      " [0.0153762  0.00204188 0.00479925]\n",
      " [0.01532735 0.00202074 0.00471304]\n",
      " [0.01532558 0.00202668 0.00486493]\n",
      " [0.01535798 0.00205006 0.00472415]\n",
      " [0.01531566 0.00199332 0.00485566]\n",
      " [0.015298   0.00199716 0.004788  ]\n",
      " [0.01540752 0.00200919 0.00491757]\n",
      " [0.0153762  0.00204188 0.00479925]\n",
      " [0.0154003  0.00200491 0.0047983 ]\n",
      " [0.0153762  0.00204188 0.00479925]\n",
      " [0.0153762  0.00204188 0.00479925]\n",
      " [0.01535683 0.00214594 0.0048281 ]\n",
      " [0.01540751 0.00197362 0.00477973]]\n"
     ]
    }
   ],
   "source": [
    "# target_position = np.zeros_like(original_carpi_geom_position)\n",
    "# original_carpi_geom_position_add1 = np.hstack((original_carpi_geom_position, np.ones((original_carpi_geom_position.shape[0], 1))))\n",
    "# for i in range(original_carpi_geom_position.shape[0]):\n",
    "#     target_position[i] = transform_site(original_pos, original_euler_degrees, original_carpi_geom_position_add1[i])\n",
    "\n",
    "# # Print the resulting matrix\n",
    "# print(target_position)"
   ]
  },
  {
   "cell_type": "code",
   "execution_count": 46,
   "metadata": {},
   "outputs": [
    {
     "name": "stdout",
     "output_type": "stream",
     "text": [
      "[[ 0.00205504 -0.0040589   0.00439547]]\n"
     ]
    }
   ],
   "source": [
    "target_position = np.zeros_like(original_site_position)\n",
    "original_site_position_add1 = np.hstack((original_site_position, np.ones((original_site_position.shape[0], 1))))\n",
    "for i in range(original_site_position.shape[0]):\n",
    "    target_position[i] = transform_site(original_pos, original_euler_degrees, original_site_position_add1[i])\n",
    "\n",
    "# Print the resulting matrix\n",
    "print(target_position)"
   ]
  },
  {
   "cell_type": "code",
   "execution_count": 8,
   "metadata": {},
   "outputs": [
    {
     "name": "stdout",
     "output_type": "stream",
     "text": [
      "[[-1.74690480e-02  9.41424358e-04 -4.14452075e-03]\n",
      " [-1.65346204e-02  3.86699778e-03 -8.67257693e-05]\n",
      " [-1.57157219e-02  3.27722523e-03 -1.18206013e-05]\n",
      " [-1.13462187e-02  2.95897147e-03  1.06590625e-04]\n",
      " [-1.21087596e-03  3.49011596e-03  3.15321047e-03]\n",
      " [-7.08952567e-03  2.65457841e-03  2.65455770e-03]\n",
      " [-1.77324580e-03  4.72580437e-03  2.12987557e-03]\n",
      " [-6.15438951e-03  2.96727078e-03  2.13615260e-03]\n",
      " [-1.84602043e-03  3.76580857e-03  9.31705331e-04]\n",
      " [-5.59946420e-03  2.84517108e-03  1.56121821e-03]\n",
      " [-1.73723008e-02  2.36728226e-03 -1.36571557e-03]\n",
      " [-1.76571686e-02  1.27831052e-03 -2.77408018e-03]\n",
      " [-1.49022162e-02  2.75403603e-03  2.93806227e-03]\n",
      " [-1.75225711e-02  8.88558345e-04 -2.88577953e-03]\n",
      " [-1.47968810e-02  6.55230007e-04 -3.01060722e-04]\n",
      " [-1.43934816e-02  7.30675671e-04 -2.65326867e-04]\n",
      " [-1.42781798e-02  5.60075702e-04 -1.46158319e-04]\n",
      " [-1.70785883e-02  2.12194741e-03 -1.48252234e-03]\n",
      " [-1.88779132e-02 -7.34804888e-04 -4.31926197e-03]\n",
      " [-1.69404757e-02  4.47613371e-04 -1.27244989e-03]\n",
      " [-1.68590885e-02 -8.20247864e-04 -2.57538241e-03]\n",
      " [-2.46678589e-03  7.30153709e-04  2.99259102e-03]\n",
      " [-4.76280248e-03  4.08819906e-04  2.37846364e-03]\n",
      " [-2.57531467e-03  2.52753438e-03  4.87287796e-04]\n",
      " [-1.30256598e-02  1.12137593e-03  1.78088148e-04]\n",
      " [-1.58869176e-02  3.40067430e-03  2.60621564e-03]\n",
      " [-1.71251073e-02  3.77418026e-03  1.41702290e-03]\n",
      " [-1.86524054e-02  3.57029160e-03  3.08650186e-04]\n",
      " [-1.86391023e-02  3.55782360e-03  2.57138491e-05]\n",
      " [-1.62694283e-02  3.56797292e-03  2.66449710e-03]\n",
      " [-1.66702992e-02  3.72362703e-03  2.36975262e-03]\n",
      " [-1.74516417e-02  3.86607058e-03  1.83094496e-03]\n",
      " [-1.79036749e-02  3.79640821e-03  1.54006153e-03]\n",
      " [-1.08334314e-02  3.27061975e-03  1.52989635e-03]]\n"
     ]
    }
   ],
   "source": [
    "# L_Pelvis = original_site_position\n",
    "# L_Pelvis[:,-1] = -1*L_Pelvis[:,-1]\n",
    "\n",
    "# L_Pelvis_pos = np.array([0.003, 0.0015, 0.0015])\n",
    "# L_Pelvis_euler_degrees = np.array([-5, 140, -5])\n",
    "\n",
    "# L_Pelvis_target_position = np.zeros_like(L_Pelvis)\n",
    "# L_Pelvis_add1 = np.hstack((L_Pelvis, np.ones((L_Pelvis.shape[0], 1))))\n",
    "# for i in range(L_Pelvis.shape[0]):\n",
    "#     L_Pelvis_target_position[i] = transform_site(L_Pelvis_pos, L_Pelvis_euler_degrees, L_Pelvis_add1[i])\n",
    "\n",
    "# # Print the resulting matrix\n",
    "# print(L_Pelvis_target_position)"
   ]
  }
 ],
 "metadata": {
  "kernelspec": {
   "display_name": "moco",
   "language": "python",
   "name": "moco"
  },
  "language_info": {
   "codemirror_mode": {
    "name": "ipython",
    "version": 3
   },
   "file_extension": ".py",
   "mimetype": "text/x-python",
   "name": "python",
   "nbconvert_exporter": "python",
   "pygments_lexer": "ipython3",
   "version": "3.9.18"
  }
 },
 "nbformat": 4,
 "nbformat_minor": 2
}
