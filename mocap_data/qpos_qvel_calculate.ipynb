{
 "cells": [
  {
   "cell_type": "code",
   "execution_count": 1,
   "metadata": {},
   "outputs": [],
   "source": [
    "import numpy as np\n",
    "import pandas as pd\n",
    "import matplotlib.pyplot as plt\n",
    "import scipy.io\n",
    "\n",
    "from mpl_toolkits.mplot3d import Axes3D\n",
    "from scipy.signal import savgol_filter\n",
    "from scipy.spatial.transform import Rotation as R\n",
    "from scipy.interpolate import CubicSpline\n",
    "from scipy.interpolate import interp1d\n",
    "\n",
    "from utils import load_syllable, rle, get_pose, select_kp"
   ]
  },
  {
   "cell_type": "code",
   "execution_count": 2,
   "metadata": {},
   "outputs": [],
   "source": [
    "def SelectPos(test_coor_path, syllable_path, select_syllable, syllable_name):\n",
    "    # pass\n",
    "    test_coor = get_pose(test_coor_path, concatenate=False)\n",
    "    test_syllable = load_syllable(syllable_path)\n",
    "    select_pos_list = select_kp(test_coor, test_syllable, select_syllable, syllable_name)\n",
    "    \n",
    "    return select_pos_list"
   ]
  },
  {
   "cell_type": "code",
   "execution_count": 4,
   "metadata": {},
   "outputs": [],
   "source": [
    "# data path and selected syllables\n",
    "test_coor_path = r\"D:\\ZhouLab\\HJQ\\mice_3d_pose\\test_session_with_ephys_downsam\\test_with_ephys_filter_downsam_5.npy\"\n",
    "syllable_path = r\"D:\\ZhouLab\\HJQ\\model_test_with_ephys_filter_downsam_5\\20000.0\\results.h5\"\n",
    "select_syllable = 3\n",
    "syllable_name = 'diving'\n",
    "\n",
    "dots_pos = SelectPos(test_coor_path, syllable_path, select_syllable, syllable_name)"
   ]
  },
  {
   "cell_type": "code",
   "execution_count": 8,
   "metadata": {},
   "outputs": [
    {
     "data": {
      "text/plain": [
       "(24, 22, 3)"
      ]
     },
     "execution_count": 8,
     "metadata": {},
     "output_type": "execute_result"
    }
   ],
   "source": [
    "dots_pos[5].shape"
   ]
  }
 ],
 "metadata": {
  "kernelspec": {
   "display_name": "mujoco",
   "language": "python",
   "name": "python3"
  },
  "language_info": {
   "codemirror_mode": {
    "name": "ipython",
    "version": 3
   },
   "file_extension": ".py",
   "mimetype": "text/x-python",
   "name": "python",
   "nbconvert_exporter": "python",
   "pygments_lexer": "ipython3",
   "version": "3.9.18"
  }
 },
 "nbformat": 4,
 "nbformat_minor": 2
}
