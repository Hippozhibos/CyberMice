{
 "cells": [
  {
   "cell_type": "code",
   "execution_count": 2,
   "metadata": {},
   "outputs": [],
   "source": [
    "from utils import load_syllable, rle, get_pose, select_kp\n"
   ]
  },
  {
   "cell_type": "code",
   "execution_count": 3,
   "metadata": {},
   "outputs": [],
   "source": [
    "# data path and selected syllables\n",
    "test_coor_path = r\"D:\\ZhouLab\\HJQ\\mice_3d_pose\\test_session_with_ephys_downsam\\test_with_ephys_filter_downsam_5.npy\"\n",
    "syllable_path = r\"D:\\ZhouLab\\HJQ\\model_test_with_ephys_filter_downsam_5\\20000.0\\results.h5\"\n",
    "select_syllable = 3\n",
    "syllable_name = 'diving'"
   ]
  },
  {
   "cell_type": "code",
   "execution_count": 7,
   "metadata": {},
   "outputs": [],
   "source": [
    "# load syllable and keypoints data\n",
    "test_coor = get_pose(test_coor_path, concatenate=False)\n",
    "test_syllable = load_syllable(syllable_path)"
   ]
  },
  {
   "cell_type": "code",
   "execution_count": 13,
   "metadata": {},
   "outputs": [],
   "source": [
    "select_pos_list = select_kp(test_coor, test_syllable, select_syllable, syllable_name)"
   ]
  },
  {
   "cell_type": "code",
   "execution_count": 17,
   "metadata": {},
   "outputs": [
    {
     "data": {
      "text/plain": [
       "(11, 22, 3)"
      ]
     },
     "execution_count": 17,
     "metadata": {},
     "output_type": "execute_result"
    }
   ],
   "source": [
    "select_pos_list[2].shape"
   ]
  },
  {
   "cell_type": "code",
   "execution_count": 6,
   "metadata": {},
   "outputs": [
    {
     "name": "stdout",
     "output_type": "stream",
     "text": [
      "Group: data_with_ephys\n",
      "Dataset: centroid\n",
      "    Data shape: (35887, 3)\n",
      "    Data type: float64\n",
      "    Data: [[12.266383   76.30460154 15.6284973 ]\n",
      " [10.70014838 75.45562442 14.07110092]\n",
      " [ 7.30880581 73.89503933 13.59820317]\n",
      " ...\n",
      " [82.55782812 12.18176718 15.13955484]\n",
      " [82.76448972 12.60369786 14.4263346 ]\n",
      " [80.38307581 13.35081345 13.69679863]]\n",
      "Dataset: heading\n",
      "    Data shape: (35887,)\n",
      "    Data type: float64\n",
      "    Data: [-2.79341171  2.926616    2.8818037  ... -0.54694299 -0.46438009\n",
      " -0.42212347]\n",
      "Dataset: latent_state\n",
      "    Data shape: (35887, 8)\n",
      "    Data type: float64\n",
      "    Data: [[ 1.08729591  4.10688771  0.73524833 ...  5.13929575 -3.37827139\n",
      "  -1.56405285]\n",
      " [ 0.68564889 -1.28481204 -1.60116166 ...  1.73461288 -2.85687821\n",
      "  -1.4794834 ]\n",
      " [-0.96413853  1.49634082  0.67061641 ... -0.37507842  1.22949165\n",
      "   2.53551285]\n",
      " ...\n",
      " [-1.0606093   0.61452465 -0.80011861 ... -0.36880541  0.58612618\n",
      "   0.5607464 ]\n",
      " [-1.12743776  0.85733413 -0.42775717 ...  0.41648525  1.36729858\n",
      "   0.80039043]\n",
      " [-0.99323236  0.91928891  0.66099845 ...  2.20066623  2.427446\n",
      "   0.8275887 ]]\n",
      "Dataset: syllable\n",
      "    Data shape: (35887,)\n",
      "    Data type: int64\n",
      "    Data: [70 70 70 ... 90 90 90]\n"
     ]
    }
   ],
   "source": [
    "import h5py\n",
    "\n",
    "def print_attrs(name, obj):\n",
    "    print(name)\n",
    "    for key, val in obj.attrs.items():\n",
    "        print(f\"    {key}: {val}\")\n",
    "\n",
    "# Open the HDF5 file\n",
    "with h5py.File(syllable_path, 'r') as file:\n",
    "    # Recursive function to explore the file structure\n",
    "    def explore_group(group):\n",
    "        for key in group.keys():\n",
    "            item = group[key]\n",
    "            if isinstance(item, h5py.Dataset):\n",
    "                print(f\"Dataset: {key}\")\n",
    "                print(f\"    Data shape: {item.shape}\")\n",
    "                print(f\"    Data type: {item.dtype}\")\n",
    "                print(f\"    Data: {item[...]}\")\n",
    "            elif isinstance(item, h5py.Group):\n",
    "                print(f\"Group: {key}\")\n",
    "                explore_group(item)\n",
    "\n",
    "    # Start exploring from the root group\n",
    "    explore_group(file)"
   ]
  }
 ],
 "metadata": {
  "kernelspec": {
   "display_name": "nma_project",
   "language": "python",
   "name": "python3"
  },
  "language_info": {
   "codemirror_mode": {
    "name": "ipython",
    "version": 3
   },
   "file_extension": ".py",
   "mimetype": "text/x-python",
   "name": "python",
   "nbconvert_exporter": "python",
   "pygments_lexer": "ipython3",
   "version": "3.9.13"
  }
 },
 "nbformat": 4,
 "nbformat_minor": 2
}
