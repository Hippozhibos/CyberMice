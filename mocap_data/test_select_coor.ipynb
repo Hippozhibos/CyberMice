{
 "cells": [
  {
   "cell_type": "code",
   "execution_count": 2,
   "metadata": {},
   "outputs": [],
   "source": [
    "from utils import load_syllable, rle, get_pose, select_kp\n"
   ]
  },
  {
   "cell_type": "code",
   "execution_count": 4,
   "metadata": {},
   "outputs": [],
   "source": [
    "# data path and selected syllables\n",
    "test_coor_path = r\"D:\\ZhouLab\\HJQ\\mice_3d_pose\\test_session_with_ephys_downsam\\test_with_ephys_filter_downsam_5.npy\"\n",
    "syllable_path = r\"D:\\ZhouLab\\HJQ\\model_test_with_ephys_filter_downsam_5\\20000.0\\results.h5\"\n",
    "select_syllable = 3\n",
    "syllable_name = 'diving'"
   ]
  },
  {
   "cell_type": "code",
   "execution_count": 7,
   "metadata": {},
   "outputs": [],
   "source": [
    "# load syllable and keypoints data\n",
    "test_coor = get_pose(test_coor_path, concatenate=False)\n",
    "test_syllable = load_syllable(syllable_path)"
   ]
  },
  {
   "cell_type": "code",
   "execution_count": 13,
   "metadata": {},
   "outputs": [],
   "source": [
    "select_pos_list = select_kp(test_coor, test_syllable, select_syllable, syllable_name)"
   ]
  },
  {
   "cell_type": "code",
   "execution_count": 17,
   "metadata": {},
   "outputs": [
    {
     "data": {
      "text/plain": [
       "(11, 22, 3)"
      ]
     },
     "execution_count": 17,
     "metadata": {},
     "output_type": "execute_result"
    }
   ],
   "source": [
    "select_pos_list[2].shape"
   ]
  },
  {
   "cell_type": "code",
   "execution_count": 2,
   "metadata": {},
   "outputs": [],
   "source": [
    "ref_walking_path = r'D:\\CyberMice\\mocap_data\\mocap_data\\diving\\data_revised.h5'"
   ]
  },
  {
   "cell_type": "code",
   "execution_count": 7,
   "metadata": {},
   "outputs": [
    {
     "name": "stdout",
     "output_type": "stream",
     "text": [
      "Group: id2name\n",
      "Dataset: joints\n",
      "    Data shape: (2,)\n",
      "    Data type: |S6\n",
      "    Data: [b'joint1' b'joint2']\n",
      "Dataset: other\n",
      "    Data shape: (2,)\n",
      "    Data type: |S6\n",
      "    Data: [b'other1' b'other2']\n",
      "Dataset: sites\n",
      "    Data shape: (2,)\n",
      "    Data type: |S5\n",
      "    Data: [b'site1' b'site2']\n",
      "Dataset: timestep_seconds\n",
      "    Data shape: ()\n",
      "    Data type: float64\n",
      "    Data: 0.0025\n",
      "Group: trajectories\n",
      "Group: 00000\n",
      "Dataset: qpos\n",
      "    Data shape: (23, 52)\n",
      "    Data type: float64\n",
      "    Data: [[5.57234917 2.88133774 0.47984576 ... 2.12446449 1.23644365 0.        ]\n",
      " [5.02774248 3.21452126 0.65138557 ... 2.11555433 1.27446336 0.        ]\n",
      " [4.54745813 3.45728063 0.77639053 ... 2.10836544 1.30271128 0.        ]\n",
      " ...\n",
      " [0.75939525 0.61869769 0.03296341 ... 2.15570688 1.18356456 0.        ]\n",
      " [0.5233923  0.41778514 0.02602062 ... 2.16317577 1.18591825 0.        ]\n",
      " [0.27025228 0.21312758 0.01653793 ... 2.16951932 1.1901652  0.        ]]\n",
      "Dataset: qvel\n",
      "    Data shape: (23, 52)\n",
      "    Data type: float64\n",
      "    Data: [[-217.84267828  133.27341085   68.61592597 ...   -3.56406094\n",
      "    15.207884      0.        ]\n",
      " [-192.11373816   97.10374522   50.00198017 ...   -2.87555919\n",
      "    11.29916736    0.        ]\n",
      " [-168.56035811   63.87552493   33.1632797  ...   -2.24428865\n",
      "     7.70707751    0.        ]\n",
      " ...\n",
      " [ -94.40117859  -80.36501955   -2.77711559 ...    2.98755386\n",
      "     0.94147555    0.        ]\n",
      " [-101.2560083   -81.86302411   -3.79307494 ...    2.53742015\n",
      "     1.6987803     0.        ]\n",
      " [-108.10091177  -85.25103248   -6.61517299 ...    2.07723741\n",
      "     2.32603334    0.        ]]\n",
      "Dataset: trajectory_lengths\n",
      "    Data shape: (1,)\n",
      "    Data type: int32\n",
      "    Data: [23]\n"
     ]
    }
   ],
   "source": [
    "import h5py\n",
    "\n",
    "def print_attrs(name, obj):\n",
    "    print(name)\n",
    "    for key, val in obj.attrs.items():\n",
    "        print(f\"    {key}: {val}\")\n",
    "\n",
    "# Open the HDF5 file\n",
    "with h5py.File(syllable_path, 'r') as file:\n",
    "    # Recursive function to explore the file structure\n",
    "    def explore_group(group):\n",
    "        for key in group.keys():\n",
    "            item = group[key]\n",
    "            if isinstance(item, h5py.Dataset):\n",
    "                print(f\"Dataset: {key}\")\n",
    "                print(f\"    Data shape: {item.shape}\")\n",
    "                print(f\"    Data type: {item.dtype}\")\n",
    "                print(f\"    Data: {item[...]}\")\n",
    "            elif isinstance(item, h5py.Group):\n",
    "                print(f\"Group: {key}\")\n",
    "                explore_group(item)\n",
    "\n",
    "    # Start exploring from the root group\n",
    "    explore_group(file)"
   ]
  }
 ],
 "metadata": {
  "kernelspec": {
   "display_name": "nma_project",
   "language": "python",
   "name": "python3"
  },
  "language_info": {
   "codemirror_mode": {
    "name": "ipython",
    "version": 3
   },
   "file_extension": ".py",
   "mimetype": "text/x-python",
   "name": "python",
   "nbconvert_exporter": "python",
   "pygments_lexer": "ipython3",
   "version": "3.12.2"
  }
 },
 "nbformat": 4,
 "nbformat_minor": 2
}
